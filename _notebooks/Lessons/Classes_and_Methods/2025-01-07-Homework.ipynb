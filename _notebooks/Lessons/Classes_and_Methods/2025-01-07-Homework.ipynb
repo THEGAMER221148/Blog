{
 "cells": [
  {
   "cell_type": "raw",
   "metadata": {
    "vscode": {
     "languageId": "raw"
    }
   },
   "source": [
    "---\n",
    "layout: post\n",
    "title: Homework\n",
    "description:  Homework for classes and methods lessons.\n",
    "type: issues \n",
    "comments: true\n",
    "---"
   ]
  },
  {
   "cell_type": "markdown",
   "metadata": {},
   "source": [
    "## Homework "
   ]
  },
  {
   "cell_type": "markdown",
   "metadata": {},
   "source": [
    "# JavaScript Classes and Methods - Interactive Homework\n",
    "In this notebook, you will learn about classes and methods in JavaScript. After the lesson, complete the tasks by editing the code cells.\n",
    "\n",
    "### What are Classes and Methods?\n",
    "- **Class**: A blueprint for creating objects with properties and methods.\n",
    "- **Method**: A function inside a class that defines an object's behavior.\n",
    "\n"
   ]
  },
  {
   "cell_type": "markdown",
   "metadata": {},
   "source": [
    "## Example: Class for food\n",
    "\n",
    "Below is an example of a JavaScript class for creating different foods. The class has:\n",
    "1. A **constructor** to initialize properties (brand and model).\n",
    "2. Two **methods** (`displayInfo` and `start`) to define behaviors.\n"
   ]
  },
  {
   "cell_type": "code",
   "execution_count": null,
   "metadata": {
    "vscode": {
     "languageId": "javascript"
    }
   },
   "outputs": [
    {
     "data": {
      "application/javascript": "// Example: A Class for Cars\nclass Car {\n  constructor(brand, model) {\n    this.brand = brand; // Property\n    this.model = model; // Property\n  }\n\n  displayInfo() {\n    console.log(`This car is a ${this.brand} ${this.model}.`);\n  }\n\n  start() {\n    console.log(`${this.brand} ${this.model} is starting...`);\n  }\n}\n\n// Create an instance of the class\nconst myCar = new Car(\"Tesla\", \"Model S\");\nmyCar.displayInfo();\nmyCar.start();\n",
      "text/plain": [
       "<IPython.core.display.Javascript object>"
      ]
     },
     "metadata": {},
     "output_type": "display_data"
    }
   ],
   "source": [
    "%%js\n",
    "// Example: A Class for Cars\n",
    "class food {\n",
    "  constructor(brand, model) {\n",
    "    this.brand = brand; // Property\n",
    "    this.model = model; // Property\n",
    "  }\n",
    "\n",
    "  displayInfo() {\n",
    "    console.log(`This car is a ${this.brand} ${this.model}.`);\n",
    "  }\n",
    "\n",
    "  start() {\n",
    "    console.log(`${this.brand} ${this.model} is starting...`);\n",
    "  }\n",
    "}\n",
    "\n",
    "// Create an instance of the class\n",
    "const myCar = new Car(\"Tesla\", \"Model S\");\n",
    "myCar.displayInfo();\n",
    "myCar.start();\n"
   ]
  },
  {
   "cell_type": "code",
   "execution_count": 10,
   "metadata": {
    "vscode": {
     "languageId": "javascript"
    }
   },
   "outputs": [
    {
     "data": {
      "application/javascript": "//my food class\nclass Food {\n    constructor(type, tastiness){\n        this.type = type;\n        this.tastiness = tastiness;\n        this.edible = true;\n    }\n    eatFood(){\n        if(this.edible){\n            console.log(`You just ate \"${this.type}\". It tasted ${this.tastiness}/10!`);\n            \n        }else{\n            console.log(`\"${this.type}\" is expired. You cannot eat this!`);\n        }\n    }\n    expire(){\n        console.log(`a \"${this.type}\" just expired!`);\n        this.edible = false;\n    }\n}\nconst banana = new Food(\"banana\", 8);\nconst tomato = new Food(\"tomato\", 4);\nconsole.log(\"eating foods...\");\nbanana.eatFood();\ntomato.eatFood();\nconsole.log(\"It's been a long time!\");\nbanana.expire();\ntomato.expire();\nconsole.log(\"What if we still try to eat?\");\ntomato.eatFood();\n",
      "text/plain": [
       "<IPython.core.display.Javascript object>"
      ]
     },
     "metadata": {},
     "output_type": "display_data"
    }
   ],
   "source": [
    "%%js\n",
    "//my food class\n",
    "class Food {\n",
    "    constructor(type, tastiness){\n",
    "        this.type = type;\n",
    "        this.tastiness = tastiness;\n",
    "        this.edible = true;\n",
    "    }\n",
    "    eatFood(){\n",
    "        if(this.edible){\n",
    "            console.log(`You just ate \"${this.type}\". It tasted ${this.tastiness}/10!`);\n",
    "            \n",
    "        }else{\n",
    "            console.log(`\"${this.type}\" is expired. You cannot eat this!`);\n",
    "        }\n",
    "    }\n",
    "    expire(){\n",
    "        console.log(`a \"${this.type}\" just expired!`);\n",
    "        this.edible = false;\n",
    "    }\n",
    "}\n",
    "const banana = new Food(\"banana\", 8);\n",
    "const tomato = new Food(\"tomato\", 4);\n",
    "console.log(\"eating foods...\");\n",
    "banana.eatFood();\n",
    "tomato.eatFood();\n",
    "console.log(\"It's been a long time!\");\n",
    "banana.expire();\n",
    "tomato.expire();\n",
    "console.log(\"What if we still try to eat?\");\n",
    "tomato.eatFood();\n"
   ]
  }
 ],
 "metadata": {
  "kernelspec": {
   "display_name": "venv",
   "language": "python",
   "name": "python3"
  },
  "language_info": {
   "codemirror_mode": {
    "name": "ipython",
    "version": 3
   },
   "file_extension": ".py",
   "mimetype": "text/x-python",
   "name": "python",
   "nbconvert_exporter": "python",
   "pygments_lexer": "ipython3",
   "version": "3.12.3"
  }
 },
 "nbformat": 4,
 "nbformat_minor": 2
}

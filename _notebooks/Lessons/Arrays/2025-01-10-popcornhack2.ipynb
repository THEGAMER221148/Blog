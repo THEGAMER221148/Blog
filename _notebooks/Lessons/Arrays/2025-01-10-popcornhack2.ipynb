{
 "cells": [
  {
   "cell_type": "markdown",
   "metadata": {},
   "source": [
    "```yaml\n",
    "\n",
    "---\n",
    "layout: page\n",
    "title: Popcorn Hacks Two\n",
    "permalink: /pch3/\n",
    "---"
   ]
  },
  {
   "cell_type": "markdown",
   "metadata": {},
   "source": [
    "---\n",
    "Popcorn Hack #2\n",
    "---"
   ]
  },
  {
   "cell_type": "markdown",
   "metadata": {},
   "source": [
    "<br>\n",
    "Create a length of a list and print it in console.log()\n",
    "\n",
    "<br>\n",
    "Create a variable called \"list\" or \"my_list_2\"\n",
    "<br>\n",
    "Create a list of numbers or words in the brackets [] Exp: let your_list = [3, 7, 9, 21];\n",
    "<br>\n",
    "Create a const length = your_list.length;\n",
    "<br>\n",
    "After all of that, finally print it out in console.log() Exp: console.log(your_list);\n",
    "<br>\n"
   ]
  },
  {
   "cell_type": "code",
   "execution_count": null,
   "metadata": {
    "vscode": {
     "languageId": "javascript"
    }
   },
   "outputs": [],
   "source": [
    "%%js   \n",
    "\n",
    "let lyrics = [\"fortnie\", \"among us\", \"skibidi toilet\", \"ohio\", \"gyatt\", \"RIZZ\"]; // create an variable \n",
    "\n",
    "const length = lyrics.length; // create a const length\n",
    "\n",
    "console.log(lyrics); // print out your list in console\n"
   ]
  }
 ],
 "metadata": {
  "kernelspec": {
   "display_name": ".venv",
   "language": "python",
   "name": "python3"
  },
  "language_info": {
   "name": "python",
   "version": "3.9.6"
  }
 },
 "nbformat": 4,
 "nbformat_minor": 2
}
